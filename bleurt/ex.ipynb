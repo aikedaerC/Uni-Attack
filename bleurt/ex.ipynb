{
 "cells": [
  {
   "cell_type": "code",
   "execution_count": 2,
   "metadata": {},
   "outputs": [],
   "source": [
    "import pandas as pd\n",
    "import os\n",
    "# Load the CSV file\n",
    "\n",
    "atype = \"attackVLM_minigpt4\"\n",
    "# atype = \"text\"\n",
    "# atype = \"noise_text\"\n",
    "# root_path = \"/home/aikedaer/mydata/data/comp\"\n",
    "root_path = f\"/home/aikedaer/mydata/data/comp/predict/{atype}\"\n",
    "\n",
    "allfiles = os.listdir(root_path)\n",
    "answerfiles = [e for e in allfiles if \"answer\" in e]\n",
    "predictfiles = [e for e in allfiles if (\"predict\" in e) and (\"question2\" in e)]\n",
    "\n",
    "# ftype = \"references\"\n",
    "ftype = \"candidates\"\n",
    "for file in predictfiles:\n",
    "    df = pd.read_csv(f\"/home/aikedaer/mydata/data/comp/predict/{atype}/{file}\")\n",
    "\n",
    "    # Select the 'question' column and save it to a text file\n",
    "    fnew = file.split(\".\")[0]\n",
    "    df['answer'].to_csv(f'/home/aikedaer/mydata/LVLMs/bleurt/{ftype}/{atype}/{fnew}', index=False, header=False)"
   ]
  },
  {
   "cell_type": "code",
   "execution_count": 9,
   "metadata": {},
   "outputs": [
    {
     "data": {
      "text/plain": [
       "['question1_llava_predict.csv',\n",
       " 'question1_qwen_predict.csv',\n",
       " 'question1_imp_predict.csv',\n",
       " 'question1_vila_predict.csv']"
      ]
     },
     "execution_count": 9,
     "metadata": {},
     "output_type": "execute_result"
    }
   ],
   "source": []
  },
  {
   "cell_type": "code",
   "execution_count": null,
   "metadata": {},
   "outputs": [],
   "source": []
  }
 ],
 "metadata": {
  "kernelspec": {
   "display_name": "imp",
   "language": "python",
   "name": "python3"
  },
  "language_info": {
   "codemirror_mode": {
    "name": "ipython",
    "version": 3
   },
   "file_extension": ".py",
   "mimetype": "text/x-python",
   "name": "python",
   "nbconvert_exporter": "python",
   "pygments_lexer": "ipython3",
   "version": "3.10.14"
  }
 },
 "nbformat": 4,
 "nbformat_minor": 2
}
